{
 "cells": [
  {
   "cell_type": "code",
   "execution_count": 1,
   "id": "e5cf0927",
   "metadata": {},
   "outputs": [],
   "source": [
    "import numpy as np\n",
    "import matplotlib.pyplot as plt"
   ]
  },
  {
   "cell_type": "code",
   "execution_count": 13,
   "id": "6386d053",
   "metadata": {},
   "outputs": [],
   "source": [
    "'''Part A'''\n",
    "\n",
    "def simulation1(N, gamma, beta):\n",
    "\n",
    "    mu = np.zeros(3)\n",
    "\n",
    "    sigma = np.array([\n",
    "        [1, 0, 0],\n",
    "        [0, 1, 0.5],\n",
    "        [0, 0.5, 1]\n",
    "    ])\n",
    "\n",
    "    samples = np.random.multivariate_normal(mu, sigma, N)\n",
    "    X, W, U = samples[:, 0], samples[:, 1], samples[:, 2]\n",
    "    \n",
    "    Z = np.where(X > 0, 1, 0)\n",
    "    D = np.where(gamma[0] + gamma[1]*Z + W > 0, 1, 0)\n",
    "    Y = beta[0] + beta[1]*D + U\n",
    "    \n",
    "    results = {\n",
    "        'Y': Y,\n",
    "        'D': D,\n",
    "        'W': W,\n",
    "        'X': X,\n",
    "        'Z': Z,\n",
    "        'U': U\n",
    "    }\n",
    "\n",
    "    return results"
   ]
  },
  {
   "cell_type": "code",
   "execution_count": 14,
   "id": "ab115c46",
   "metadata": {},
   "outputs": [
    {
     "name": "stdout",
     "output_type": "stream",
     "text": [
      "Correlation between di and ui: 0.3996441138430648\n"
     ]
    }
   ],
   "source": [
    "'''Part B'''\n",
    "\n",
    "simulate_b = simulation1(10000, [0.25, 0.25], [0.5, 1])\n",
    "correlation_b = np.corrcoef(simulate_b['D'], simulate_b['U'])[0, 1]\n",
    "print(f\"Correlation between di and ui: {correlation_b}\")"
   ]
  },
  {
   "cell_type": "code",
   "execution_count": 15,
   "id": "93b4b36f",
   "metadata": {},
   "outputs": [
    {
     "name": "stdout",
     "output_type": "stream",
     "text": [
      "Estimated beta from OLS: 1.7797111230232294\n",
      "Interpretation: On average, being treated (D=1) increases the outcome Y by 1.7797111230232294 units compared to not being treated (D=0), holding all else constant.\n"
     ]
    }
   ],
   "source": [
    "'''Part C'''\n",
    "def OLS_est(X, Y):\n",
    "    beta_hat = np.linalg.inv(X.T @ X) @ (X.T @ Y)\n",
    "    return beta_hat\n",
    "\n",
    "beta_hat = OLS_est(simulate_b['D'].reshape(-1, 1), simulate_b['Y'])\n",
    "print(f\"Estimated beta from OLS: {beta_hat[0]}\")\n",
    "print(f\"Interpretation: On average, being treated (D=1) increases the outcome Y by {beta_hat[0]} units compared to not being treated (D=0), holding all else constant.\")"
   ]
  },
  {
   "cell_type": "code",
   "execution_count": 16,
   "id": "ae61e527",
   "metadata": {},
   "outputs": [
    {
     "name": "stdout",
     "output_type": "stream",
     "text": [
      "Estimated alpha from first stage regression: 0.6905766526019691\n",
      "Interpretation: A one-unit increase in the instrument Z is associated with an average increase of 0.6905766526019691 units in the treatment D.\n"
     ]
    }
   ],
   "source": [
    "'''Part D'''\n",
    "alpha_hat = OLS_est(simulate_b['Z'].reshape(-1, 1), simulate_b['D'])\n",
    "print(f\"Estimated alpha from first stage regression: {alpha_hat[0]}\")\n",
    "print(f\"Interpretation: A one-unit increase in the instrument Z is associated with an average increase of {alpha_hat[0]} units in the treatment D.\")"
   ]
  },
  {
   "cell_type": "code",
   "execution_count": null,
   "id": "cfa70569",
   "metadata": {},
   "outputs": [],
   "source": []
  }
 ],
 "metadata": {
  "kernelspec": {
   "display_name": "base",
   "language": "python",
   "name": "python3"
  },
  "language_info": {
   "codemirror_mode": {
    "name": "ipython",
    "version": 3
   },
   "file_extension": ".py",
   "mimetype": "text/x-python",
   "name": "python",
   "nbconvert_exporter": "python",
   "pygments_lexer": "ipython3",
   "version": "3.12.7"
  }
 },
 "nbformat": 4,
 "nbformat_minor": 5
}
