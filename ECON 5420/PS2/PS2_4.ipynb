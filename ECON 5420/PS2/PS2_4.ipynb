{
 "cells": [
  {
   "cell_type": "code",
   "execution_count": 17,
   "id": "e5cf0927",
   "metadata": {},
   "outputs": [],
   "source": [
    "import numpy as np\n",
    "import matplotlib.pyplot as plt\n",
    "from sklearn.linear_model import LinearRegression\n",
    "\n",
    "reg = LinearRegression(fit_intercept=False)"
   ]
  },
  {
   "cell_type": "code",
   "execution_count": null,
   "id": "6386d053",
   "metadata": {},
   "outputs": [],
   "source": [
    "'''Part A'''\n",
    "\n",
    "def simulation1(N, gamma, beta):\n",
    "\n",
    "    sample_mean = np.zeros(3)\n",
    "\n",
    "    sample_covariance = np.array([\n",
    "        [1, 0, 0],\n",
    "        [0, 1, 0.5],\n",
    "        [0, 0.5, 1]\n",
    "    ])\n",
    "\n",
    "    samples = np.random.multivariate_normal(sample_mean, sample_covariance, N)\n",
    "    X, W, U = samples[:, 0], samples[:, 1], samples[:, 2]\n",
    "    \n",
    "    Z = np.where(X > 0, 1, 0)\n",
    "    D = np.where(gamma[0] + gamma[1]*Z + W > 0, 1, 0)\n",
    "    Y = beta[0] + beta[1]*D + U\n",
    "    \n",
    "    results = {\n",
    "        'Y': Y,\n",
    "        'D': D,\n",
    "        'W': W,\n",
    "        'X': X,\n",
    "        'Z': Z,\n",
    "        'U': U,\n",
    "    }\n",
    "\n",
    "    return results"
   ]
  },
  {
   "cell_type": "code",
   "execution_count": 36,
   "id": "ab115c46",
   "metadata": {},
   "outputs": [
    {
     "name": "stdout",
     "output_type": "stream",
     "text": [
      "Correlation between D and U: 0.3926\n"
     ]
    }
   ],
   "source": [
    "'''Part B'''\n",
    "\n",
    "sample_gamma = [0.25, 0.25]\n",
    "sample_beta = [0.5, 1]\n",
    "\n",
    "simulate_b = simulation1(10000, sample_gamma, sample_beta)\n",
    "correlation_b = np.corrcoef(simulate_b['D'], simulate_b['U'])[0, 1]\n",
    "print(f\"Correlation between D and U: {correlation_b:.4f}\")"
   ]
  },
  {
   "cell_type": "code",
   "execution_count": 37,
   "id": "93b4b36f",
   "metadata": {},
   "outputs": [
    {
     "name": "stdout",
     "output_type": "stream",
     "text": [
      "β₀ (intercept): -0.0271\n",
      "β₁ (treatment effect): 1.8157\n",
      "Interpretation: On average, being treated (D=1) increases outcome Y by 1.8157 units\n",
      "compared to not being treated (D=0). The baseline outcome when D=0 is -0.0271.\n"
     ]
    }
   ],
   "source": [
    "'''Part C'''\n",
    "def intercept(X):\n",
    "    return np.column_stack([np.ones(len(X)), X])\n",
    "\n",
    "reg.fit(intercept(simulate_b['D']), simulate_b['Y'])\n",
    "beta_0 = reg.coef_[0]\n",
    "beta_1 = reg.coef_[1]\n",
    "\n",
    "print(f\"β₀ (intercept): {beta_0:.4f}\")\n",
    "print(f\"β₁ (treatment effect): {beta_1:.4f}\")\n",
    "print(f\"Interpretation: On average, being treated (D=1) increases outcome Y by {beta_1:.4f} units\")\n",
    "print(f\"compared to not being treated (D=0). The baseline outcome when D=0 is {beta_0:.4f}.\")"
   ]
  },
  {
   "cell_type": "code",
   "execution_count": 38,
   "id": "ae61e527",
   "metadata": {},
   "outputs": [
    {
     "name": "stdout",
     "output_type": "stream",
     "text": [
      "α₀ (intercept): 0.6072\n",
      "α₁ (instrument effect): 0.0769\n",
      "Interpretation:\n",
      "- α₀: 60.7% of people with Z=0 receive treatment (D=1)\n",
      "- α₁: Having Z=1 increases probability of treatment by 7.7%\n",
      "- Total: 68.4% of people with Z=1 receive treatment\n"
     ]
    }
   ],
   "source": [
    "'''Part D'''\n",
    "reg.fit(intercept(simulate_b['Z']), simulate_b['D'])\n",
    "alpha_0 = reg.coef_[0]\n",
    "alpha_1 = reg.coef_[1]\n",
    "\n",
    "print(f\"α₀ (intercept): {alpha_0:.4f}\")\n",
    "print(f\"α₁ (instrument effect): {alpha_1:.4f}\")\n",
    "print(f\"Interpretation:\")\n",
    "print(f\"- α₀: {alpha_0:.1%} of people with Z=0 receive treatment (D=1)\")\n",
    "print(f\"- α₁: Having Z=1 increases probability of treatment by {alpha_1:.1%}\")\n",
    "print(f\"- Total: {alpha_0 + alpha_1:.1%} of people with Z=1 receive treatment\")"
   ]
  },
  {
   "cell_type": "code",
   "execution_count": 39,
   "id": "cfa70569",
   "metadata": {},
   "outputs": [
    {
     "name": "stdout",
     "output_type": "stream",
     "text": [
      "δ₀ (intercept): 0.6453\n",
      "δ₁ (effect of X on D): 0.0333\n",
      "Interpretation:\n",
      "- δ₀: 64.5% of people with X=0 receive treatment (D=1)\n",
      "- δ₁: A one-unit increase in X increases probability of treatment by 3.3%\n",
      "- Total: 67.9% of people with X=1 receive treatment\n"
     ]
    }
   ],
   "source": [
    "'''Part E'''\n",
    "reg.fit(intercept(simulate_b['X']), simulate_b['D'])\n",
    "delta_0 = reg.coef_[0]\n",
    "delta_1 = reg.coef_[1]\n",
    "\n",
    "print(f\"δ₀ (intercept): {delta_0:.4f}\")\n",
    "print(f\"δ₁ (effect of X on D): {delta_1:.4f}\")\n",
    "print(f\"Interpretation:\")\n",
    "print(f\"- δ₀: {delta_0:.1%} of people with X=0 receive treatment (D=1)\")\n",
    "print(f\"- δ₁: A one-unit increase in X increases probability of treatment by {delta_1:.1%}\")\n",
    "print(f\"- Total: {delta_0 + delta_1:.1%} of people with X=1 receive treatment\")"
   ]
  },
  {
   "cell_type": "markdown",
   "id": "af6152cb",
   "metadata": {},
   "source": [
    "Comparatively, Z is shown to have a more significant positive effect on D."
   ]
  },
  {
   "cell_type": "code",
   "execution_count": 42,
   "id": "a4943b44",
   "metadata": {},
   "outputs": [
    {
     "name": "stdout",
     "output_type": "stream",
     "text": [
      "IV ESTIMATES:\n",
      "Using Z as instrument: β₁ᴵⱽ = 1.5294\n",
      "Using X as instrument: β₁ᴵⱽ = 0.7692\n",
      "\n",
      "Analysis:\n",
      "Note that true β₁ = 1\n",
      "Using Z as instrument gives estimate that differs from true β₁ by 0.5294 which is an overestimate\n",
      "Using X as instrument gives estimate that differs from true β₁ by -0.2308 which is an underestimate\n"
     ]
    }
   ],
   "source": [
    "'''Part F'''\n",
    "covZY = np.cov(simulate_b['Z'], simulate_b['Y'])[0, 1]\n",
    "covZD = np.cov(simulate_b['Z'], simulate_b['D'])[0, 1]\n",
    "covXY = np.cov(simulate_b['X'], simulate_b['Y'])[0, 1]\n",
    "covXD = np.cov(simulate_b['X'], simulate_b['D'])[0, 1]\n",
    "\n",
    "beta_IV_Z = covZD / covZY\n",
    "beta_IV_X = covXY / covXD\n",
    "\n",
    "print(\"IV ESTIMATES:\")\n",
    "print(f\"Using Z as instrument: β₁ᴵⱽ = {beta_IV_Z:.4f}\")\n",
    "print(f\"Using X as instrument: β₁ᴵⱽ = {beta_IV_X:.4f}\")\n",
    "\n",
    "print()\n",
    "print(\"Analysis:\")\n",
    "print(f\"Note that true β₁ = {sample_beta[1]}\")\n",
    "print(f\"Using Z as instrument gives estimate that differs from true β₁ by {beta_IV_Z - sample_beta[1]:.4f} which is an {'overestimate' if beta_IV_Z > sample_beta[1] else 'underestimate'}\")\n",
    "print(f\"Using X as instrument gives estimate that differs from true β₁ by {beta_IV_X - sample_beta[1]:.4f} which is an {'overestimate' if beta_IV_X > sample_beta[1] else 'underestimate'}\")"
   ]
  },
  {
   "cell_type": "markdown",
   "id": "3c12fb12",
   "metadata": {},
   "source": [
    "#### Part G\n",
    "For true γ1 with IV zi to have a LATE interpretation, di must meet the monotonicity condition where di(1) >= di(0).\n",
    "Therefore, γ1 >= 0 must be true. This is ensures that:\n",
    "- When zi = 1, individual i is more likely to recieve treatment di\n",
    "- When zi = 0, individual i is less likely to recieve treatment di\n",
    "\n",
    "In terms of compliance groups, β1 is the estimate for only the compliers. This is for the subgroup of the sample population where the binary treatment status (di) changes with the treatment (zi)."
   ]
  },
  {
   "cell_type": "code",
   "execution_count": null,
   "id": "30941c67",
   "metadata": {},
   "outputs": [],
   "source": []
  }
 ],
 "metadata": {
  "kernelspec": {
   "display_name": "base",
   "language": "python",
   "name": "python3"
  },
  "language_info": {
   "codemirror_mode": {
    "name": "ipython",
    "version": 3
   },
   "file_extension": ".py",
   "mimetype": "text/x-python",
   "name": "python",
   "nbconvert_exporter": "python",
   "pygments_lexer": "ipython3",
   "version": "3.12.2"
  }
 },
 "nbformat": 4,
 "nbformat_minor": 5
}
