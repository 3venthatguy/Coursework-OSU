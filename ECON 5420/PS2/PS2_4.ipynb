{
 "cells": [
  {
   "cell_type": "code",
   "execution_count": 17,
   "id": "e5cf0927",
   "metadata": {},
   "outputs": [],
   "source": [
    "import numpy as np\n",
    "import matplotlib.pyplot as plt\n",
    "from sklearn.linear_model import LinearRegression\n",
    "\n",
    "reg = LinearRegression(fit_intercept=False)"
   ]
  },
  {
   "cell_type": "code",
   "execution_count": null,
   "id": "6386d053",
   "metadata": {},
   "outputs": [],
   "source": [
    "'''Part A'''\n",
    "\n",
    "def simulation1(N, gamma, beta):\n",
    "\n",
    "    sample_mean = np.zeros(3)\n",
    "\n",
    "    sample_covariance = np.array([\n",
    "        [1, 0, 0],\n",
    "        [0, 1, 0.5],\n",
    "        [0, 0.5, 1]\n",
    "    ])\n",
    "\n",
    "    samples = np.random.multivariate_normal(sample_mean, sample_covariance, N)\n",
    "    X, W, U = samples[:, 0], samples[:, 1], samples[:, 2]\n",
    "    \n",
    "    Z = np.where(X > 0, 1, 0)\n",
    "    D = np.where(gamma[0] + gamma[1]*Z + W > 0, 1, 0)\n",
    "    Y = beta[0] + beta[1]*D + U\n",
    "    \n",
    "    results = {\n",
    "        'Y': Y,\n",
    "        'D': D,\n",
    "        'W': W,\n",
    "        'X': X,\n",
    "        'Z': Z,\n",
    "        'U': U,\n",
    "    }\n",
    "\n",
    "    return results"
   ]
  },
  {
   "cell_type": "code",
   "execution_count": 10,
   "id": "ab115c46",
   "metadata": {},
   "outputs": [
    {
     "name": "stdout",
     "output_type": "stream",
     "text": [
      "Correlation between D and U: 0.3867\n"
     ]
    }
   ],
   "source": [
    "'''Part B'''\n",
    "\n",
    "simulate_b = simulation1(10000, [0.25, 0.25], [0.5, 1])\n",
    "correlation_b = np.corrcoef(simulate_b['D'], simulate_b['U'])[0, 1]\n",
    "print(f\"Correlation between D and U: {correlation_b:.4f}\")"
   ]
  },
  {
   "cell_type": "code",
   "execution_count": 23,
   "id": "93b4b36f",
   "metadata": {},
   "outputs": [
    {
     "name": "stdout",
     "output_type": "stream",
     "text": [
      "β₀ (intercept): -0.0252\n",
      "β₁ (treatment effect): 1.8031\n",
      "Interpretation: On average, being treated (D=1) increases outcome Y by 1.8031 units\n",
      "compared to not being treated (D=0). The baseline outcome when D=0 is -0.0252.\n"
     ]
    }
   ],
   "source": [
    "'''Part C'''\n",
    "def intercept(X):\n",
    "    return np.column_stack([np.ones(len(X)), X])\n",
    "\n",
    "reg.fit(intercept(simulate_b['D']), simulate_b['Y'])\n",
    "beta_0 = reg.coef_[0]\n",
    "beta_1 = reg.coef_[1]\n",
    "\n",
    "print(f\"β₀ (intercept): {beta_0:.4f}\")\n",
    "print(f\"β₁ (treatment effect): {beta_1:.4f}\")\n",
    "print(f\"Interpretation: On average, being treated (D=1) increases outcome Y by {beta_1:.4f} units\")\n",
    "print(f\"compared to not being treated (D=0). The baseline outcome when D=0 is {beta_0:.4f}.\")"
   ]
  },
  {
   "cell_type": "code",
   "execution_count": 27,
   "id": "ae61e527",
   "metadata": {},
   "outputs": [
    {
     "name": "stdout",
     "output_type": "stream",
     "text": [
      "α₀ (intercept): 0.5941\n",
      "α₁ (instrument effect): 0.0942\n",
      "Interpretation:\n",
      "- α₀: 59.4% of people with Z=0 receive treatment (D=1)\n",
      "- α₁: Having Z=1 increases probability of treatment by 9.4%\n",
      "- Total: 68.8% of people with Z=1 receive treatment\n"
     ]
    }
   ],
   "source": [
    "'''Part D'''\n",
    "reg.fit(intercept(simulate_b['Z']), simulate_b['D'])\n",
    "alpha_0 = reg.coef_[0]\n",
    "alpha_1 = reg.coef_[1]\n",
    "\n",
    "print(f\"α₀ (intercept): {alpha_0:.4f}\")\n",
    "print(f\"α₁ (instrument effect): {alpha_1:.4f}\")\n",
    "print(f\"Interpretation:\")\n",
    "print(f\"- α₀: {alpha_0:.1%} of people with Z=0 receive treatment (D=1)\")\n",
    "print(f\"- α₁: Having Z=1 increases probability of treatment by {alpha_1:.1%}\")\n",
    "print(f\"- Total: {alpha_0 + alpha_1:.1%} of people with Z=1 receive treatment\")"
   ]
  },
  {
   "cell_type": "code",
   "execution_count": 30,
   "id": "cfa70569",
   "metadata": {},
   "outputs": [
    {
     "name": "stdout",
     "output_type": "stream",
     "text": [
      "δ₀ (intercept): 0.6412\n",
      "δ₁ (effect of X on D): 0.0352\n",
      "Interpretation:\n",
      "- δ₀: 64.1% of people with X=0 receive treatment (D=1)\n",
      "- δ₁: A one-unit increase in X increases probability of treatment by 3.5%\n",
      "- Total: 67.6% of people with X=1 receive treatment\n"
     ]
    }
   ],
   "source": [
    "'''Part E'''\n",
    "reg.fit(intercept(simulate_b['X']), simulate_b['D'])\n",
    "delta_0 = reg.coef_[0]\n",
    "delta_1 = reg.coef_[1]\n",
    "\n",
    "print(f\"δ₀ (intercept): {delta_0:.4f}\")\n",
    "print(f\"δ₁ (effect of X on D): {delta_1:.4f}\")\n",
    "print(f\"Interpretation:\")\n",
    "print(f\"- δ₀: {delta_0:.1%} of people with X=0 receive treatment (D=1)\")\n",
    "print(f\"- δ₁: A one-unit increase in X increases probability of treatment by {delta_1:.1%}\")\n",
    "print(f\"- Total: {delta_0 + delta_1:.1%} of people with X=1 receive treatment\")"
   ]
  },
  {
   "cell_type": "markdown",
   "id": "af6152cb",
   "metadata": {},
   "source": [
    "Comparatively, Z is shown to have a more significant positive effect on D."
   ]
  },
  {
   "cell_type": "code",
   "execution_count": null,
   "id": "a4943b44",
   "metadata": {},
   "outputs": [
    {
     "name": "stdout",
     "output_type": "stream",
     "text": [
      "IV estimate of β₁ using Z as instrument: 1.1579\n",
      "IV estimate of β₁ using X as instrument: 1.3369\n"
     ]
    }
   ],
   "source": [
    "'''Part F'''\n",
    "def IV_estimate(X, Y, Z):\n",
    "\n",
    "    covXZ = np.cov(X, Z, bias=True)[0, 1]\n",
    "    covYZ = np.cov(Y, Z, bias=True)[0, 1]\n",
    "    # First stage: Regress X on Z\n",
    "    reg.fit(intercept(Z), X)\n",
    "    X_hat = reg.predict(intercept(Z))\n",
    "    \n",
    "    # Second stage: Regress Y on predicted X\n",
    "    reg.fit(intercept(X_hat), Y)\n",
    "    return reg.coef_[1]\n",
    "\n",
    "iv_beta_z = IV_estimate(simulate_b['D'], simulate_b['Y'], simulate_b['Z'])\n",
    "print(f\"IV estimate of β₁ using Z as instrument: {iv_beta_z:.4f}\")\n",
    "\n",
    "iv_beta_x = IV_estimate(simulate_b['D'], simulate_b['Y'], simulate_b['X'])\n",
    "print(f\"IV estimate of β₁ using X as instrument: {iv_beta_x:.4f}\")"
   ]
  },
  {
   "cell_type": "code",
   "execution_count": null,
   "id": "30941c67",
   "metadata": {},
   "outputs": [],
   "source": []
  }
 ],
 "metadata": {
  "kernelspec": {
   "display_name": "base",
   "language": "python",
   "name": "python3"
  },
  "language_info": {
   "codemirror_mode": {
    "name": "ipython",
    "version": 3
   },
   "file_extension": ".py",
   "mimetype": "text/x-python",
   "name": "python",
   "nbconvert_exporter": "python",
   "pygments_lexer": "ipython3",
   "version": "3.12.2"
  }
 },
 "nbformat": 4,
 "nbformat_minor": 5
}
