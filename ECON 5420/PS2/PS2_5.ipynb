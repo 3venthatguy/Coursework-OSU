{
 "cells": [
  {
   "cell_type": "code",
   "execution_count": 87,
   "id": "05fad25f",
   "metadata": {},
   "outputs": [],
   "source": [
    "import numpy as np\n",
    "import matplotlib.pyplot as plt\n",
    "import pandas as pd\n",
    "from sklearn.linear_model import LinearRegression\n",
    "import statsmodels.api as sm\n",
    "\n",
    "reg = LinearRegression()\n",
    "data = pd.read_csv('card.csv')\n",
    "clean = data.dropna()"
   ]
  },
  {
   "cell_type": "markdown",
   "id": "3ad1e695",
   "metadata": {},
   "source": [
    "#### Part A"
   ]
  },
  {
   "cell_type": "code",
   "execution_count": 88,
   "id": "85ebc4b6",
   "metadata": {},
   "outputs": [
    {
     "data": {
      "text/plain": [
       "Text(0.5, 1.0, 'Histogram of Wage')"
      ]
     },
     "execution_count": 88,
     "metadata": {},
     "output_type": "execute_result"
    },
    {
     "data": {
      "image/png": "[encoded data removed]",
      "text/plain": [
       "<Figure size 640x480 with 1 Axes>"
      ]
     },
     "metadata": {},
     "output_type": "display_data"
    }
   ],
   "source": [
    "ln_wage = np.log(clean['wage'])\n",
    "\n",
    "plt.hist(ln_wage, bins=30, edgecolor='black')\n",
    "plt.title('Histogram of Wage')"
   ]
  },
  {
   "cell_type": "markdown",
   "id": "93704c10",
   "metadata": {},
   "source": [
    "#### Part B"
   ]
  },
  {
   "cell_type": "code",
   "execution_count": 116,
   "id": "7cf01f0c",
   "metadata": {},
   "outputs": [
    {
     "name": "stdout",
     "output_type": "stream",
     "text": [
      "The coefficient for β1 (educ) is: 0.0774\n",
      "The standard error for β1 (educ) is: 0.0051\n"
     ]
    }
   ],
   "source": [
    "data['exper^2'] = data['exper'] ** 2\n",
    "controls = data[['exper', 'exper^2', 'black', 'smsa', 'south', 'smsa66', 'reg662', 'reg663', 'reg664', 'reg665', 'reg666', 'reg667', 'reg668', 'reg669']]\n",
    "\n",
    "educ = clean['educ']\n",
    "X_a = educ.to_frame(name='educ').join(controls)\n",
    "X_a = sm.add_constant(X_a)\n",
    "model = sm.OLS(ln_wage, X_a).fit()\n",
    "\n",
    "print(f\"The coefficient for β1 (educ) is: {model.params['educ']:.4f}\")\n",
    "print(f\"The standard error for β1 (educ) is: {model.bse['educ']:.4f}\")"
   ]
  },
  {
   "cell_type": "markdown",
   "id": "d2fcd767",
   "metadata": {},
   "source": [
    "#### Part C"
   ]
  },
  {
   "cell_type": "code",
   "execution_count": null,
   "id": "2be7ae69",
   "metadata": {
    "vscode": {
     "languageId": "ruby"
    }
   },
   "outputs": [
    {
     "name": "stdout",
     "output_type": "stream",
     "text": [
      "First stage coefficient for γ1 (nearc4) on educ is: 0.5018\n",
      "Full model coefficient for γ1 (nearc4) on educ is: 0.3197\n"
     ]
    }
   ],
   "source": [
    "nearc4 = clean[['nearc4']]\n",
    "educ = clean['educ']\n",
    "reg.fit(nearc4, educ)\n",
    "\n",
    "print(f\"First stage coefficient for γ1 (nearc4) on educ is: {reg.coef_[0]:.4f}\")\n",
    "\n",
    "controls_c = clean[['nearc4']].join(controls)\n",
    "reg.fit(controls_c, educ)\n",
    "\n",
    "print(f\"Full model coefficient for γ1 (nearc4) on educ is: {reg.coef_[0]:.4f}\")\n"
   ]
  },
  {
   "cell_type": "markdown",
   "id": "1334de98",
   "metadata": {},
   "source": [
    "The Instrument Relevance condition indicates that the chosen IV (nearc4) must be correlated with the explanatory variable (educ) but not correlated with the omitted variables (rest of the controls).\n",
    "Given the results of the analysis where the estimate of the IV is very different between the First Stage Regression and the Full Model, this indicates that the IV is correlated with the omitted variables and is thus a poor IV."
   ]
  },
  {
   "cell_type": "markdown",
   "id": "b6bb4b12",
   "metadata": {},
   "source": [
    "#### Part D"
   ]
  },
  {
   "cell_type": "code",
   "execution_count": null,
   "id": "65aef5e8",
   "metadata": {
    "vscode": {
     "languageId": "ruby"
    }
   },
   "outputs": [
    {
     "name": "stdout",
     "output_type": "stream",
     "text": [
      "IV estimate for β1 (educ) with nearc4 as the IV is: 0.0331\n",
      "Standard error for β1 (educ) with nearc4 as the IV is: 0.0768\n"
     ]
    }
   ],
   "source": [
    "nearc4 = clean[['nearc4']]\n",
    "educ = clean['educ']\n",
    "\n",
    "X_first_D = nearc4.join(controls)\n",
    "\n",
    "# First stage regression using statsmodels to get fitted values\n",
    "X_first_constant_D = sm.add_constant(X_first_D)\n",
    "model_first_D = sm.OLS(educ, X_first_constant_D).fit()\n",
    "\n",
    "# Fitted values from the first stage regression\n",
    "educ_hat = model_first_D.fittedvalues\n",
    "\n",
    "# Second stage regression\n",
    "X_second_D = educ_hat.to_frame(name='educ_hat').join(controls)\n",
    "X_second_constant_D = sm.add_constant(X_second_D)  \n",
    "model_second_D = sm.OLS(ln_wage, X_second_constant_D).fit()\n",
    "\n",
    "beta_1 = model_second_D.params['educ_hat']\n",
    "beta_1_se = model_second_D.bse['educ_hat']\n",
    "\n",
    "print(f\"IV estimate for β1 (educ) with nearc4 as the IV is: {beta_1:.4f}\")\n",
    "print(f\"Standard error for β1 (educ) with nearc4 as the IV is: {beta_1_se:.4f}\")"
   ]
  },
  {
   "cell_type": "markdown",
   "id": "f4da728f",
   "metadata": {},
   "source": [
    "#### Part E"
   ]
  },
  {
   "cell_type": "code",
   "execution_count": 119,
   "id": "37e44814",
   "metadata": {},
   "outputs": [
    {
     "name": "stdout",
     "output_type": "stream",
     "text": [
      "The coefficient for π1 (nearc4) on IQ is: 2.3639\n",
      "The coefficient for π1 (nearc4) on IQ with controls is: 0.2209\n"
     ]
    }
   ],
   "source": [
    "nearc4 = clean[['nearc4']]\n",
    "IQ = clean['IQ']\n",
    "\n",
    "reg.fit(nearc4, IQ)\n",
    "print(f\"The coefficient for π1 (nearc4) on IQ is: {reg.coef_[0]:.4f}\")\n",
    "\n",
    "controls_e = nearc4.join(controls)\n",
    "reg.fit(controls_e, IQ)\n",
    "print(f\"The coefficient for π1 (nearc4) on IQ with controls is: {reg.coef_[0]:.4f}\")"
   ]
  },
  {
   "cell_type": "markdown",
   "id": "05dca706",
   "metadata": {},
   "source": [
    "Similar to the previous IV analysis in part C, this IV (nearc4) on IQ appears to fail relevance condition considering that its estimation is not independent from the error term (controls). This indicates that there is an omitted variable bias problem on the first stage regression, thus indicating that the exogeneity assumption does not hold."
   ]
  },
  {
   "cell_type": "markdown",
   "id": "41e2b840",
   "metadata": {},
   "source": [
    "#### Part F"
   ]
  },
  {
   "cell_type": "code",
   "execution_count": 108,
   "id": "4d419b54",
   "metadata": {},
   "outputs": [
    {
     "name": "stdout",
     "output_type": "stream",
     "text": [
      "IV estimate for β1 (IQ) with nearc4 as the IV is: 0.0479\n",
      "Standard error for β1 (IQ) with nearc4 as the IV is: 0.1111\n"
     ]
    }
   ],
   "source": [
    "X_first_D = nearc4.join(controls)\n",
    "\n",
    "# First stage regression using statsmodels to get fitted values\n",
    "X_first_constant_D = sm.add_constant(X_first_D)\n",
    "model_first_D = sm.OLS(IQ, X_first_constant_D).fit()\n",
    "\n",
    "# Fitted values from the first stage regression\n",
    "IQ_hat = model_first_D.fittedvalues\n",
    "\n",
    "# Second stage regression\n",
    "X_second_D = IQ_hat.to_frame(name='IQ_hat').join(controls)\n",
    "X_second_constant_D = sm.add_constant(X_second_D)  \n",
    "model_second_D = sm.OLS(ln_wage, X_second_constant_D).fit()\n",
    "\n",
    "beta_1 = model_second_D.params['IQ_hat']\n",
    "beta_1_se = model_second_D.bse['IQ_hat']\n",
    "\n",
    "print(f\"IV estimate for β1 (IQ) with nearc4 as the IV is: {beta_1:.4f}\")\n",
    "print(f\"Standard error for β1 (IQ) with nearc4 as the IV is: {beta_1_se:.4f}\")"
   ]
  },
  {
   "cell_type": "markdown",
   "id": "2372a5cc",
   "metadata": {},
   "source": [
    "β1 for (f) is a lot smaller than β1 for (b) and (d). "
   ]
  },
  {
   "cell_type": "markdown",
   "id": "f181d5db",
   "metadata": {},
   "source": [
    "#### Part G"
   ]
  },
  {
   "cell_type": "markdown",
   "id": "392ef6ae",
   "metadata": {},
   "source": []
  },
  {
   "cell_type": "markdown",
   "id": "e6ef558b",
   "metadata": {},
   "source": [
    "#### Part H"
   ]
  },
  {
   "cell_type": "markdown",
   "id": "df7b16b6",
   "metadata": {},
   "source": []
  },
  {
   "cell_type": "markdown",
   "id": "177498a6",
   "metadata": {},
   "source": [
    "#### Part I"
   ]
  },
  {
   "cell_type": "code",
   "execution_count": 132,
   "id": "31acb030",
   "metadata": {},
   "outputs": [
    {
     "name": "stdout",
     "output_type": "stream",
     "text": [
      "IV estimate for β1 (educ) with nearc4 and nearc2 as the IVs is: 0.0773\n",
      "Standard error for β1 (educ) with nearc4 and nearc2 as the IVs is: 0.0731\n"
     ]
    }
   ],
   "source": [
    "nearc4 = clean[['nearc4']]\n",
    "nearc2 = clean[['nearc2']]\n",
    "educ = clean['educ']\n",
    "\n",
    "\n",
    "# FIXED: Use pd.concat instead of + for joining DataFrames\n",
    "X_first_f = nearc4.join(nearc2).join(controls)\n",
    "X_first_constant_f = sm.add_constant(X_first_f)\n",
    "model_first_f = sm.OLS(educ, X_first_constant_f).fit()\n",
    "\n",
    "educ_hat_f = model_first_f.fittedvalues\n",
    "\n",
    "X_second_f = educ_hat_f.to_frame(name='educ_hat').join(controls)\n",
    "X_second_constant_f = sm.add_constant(X_second_f)\n",
    "model_second_f = sm.OLS(ln_wage, X_second_constant_f).fit()\n",
    "\n",
    "beta_1_f = model_second_f.params['educ_hat']\n",
    "beta_1_se_f = model_second_f.bse['educ_hat']\n",
    "\n",
    "print(f\"IV estimate for β1 (educ) with nearc4 and nearc2 as the IVs is: {beta_1_f:.4f}\")\n",
    "print(f\"Standard error for β1 (educ) with nearc4 and nearc2 as the IVs is: {beta_1_se_f:.4f}\")"
   ]
  },
  {
   "cell_type": "code",
   "execution_count": null,
   "id": "0f45b7c4",
   "metadata": {},
   "outputs": [],
   "source": []
  }
 ],
 "metadata": {
  "kernelspec": {
   "display_name": "base",
   "language": "python",
   "name": "python3"
  },
  "language_info": {
   "codemirror_mode": {
    "name": "ipython",
    "version": 3
   },
   "file_extension": ".py",
   "mimetype": "text/x-python",
   "name": "python",
   "nbconvert_exporter": "python",
   "pygments_lexer": "ipython3",
   "version": "3.12.7"
  }
 },
 "nbformat": 4,
 "nbformat_minor": 5
}
