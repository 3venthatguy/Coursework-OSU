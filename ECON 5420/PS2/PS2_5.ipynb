{
 "cells": [
  {
   "cell_type": "code",
   "execution_count": 133,
   "id": "05fad25f",
   "metadata": {},
   "outputs": [],
   "source": [
    "import numpy as np\n",
    "import matplotlib.pyplot as plt\n",
    "import pandas as pd\n",
    "from sklearn.linear_model import LinearRegression\n",
    "import statsmodels.api as sm\n",
    "\n",
    "reg = LinearRegression()\n",
    "data = pd.read_csv('card.csv')\n",
    "clean = data.dropna()"
   ]
  },
  {
   "cell_type": "markdown",
   "id": "3ad1e695",
   "metadata": {},
   "source": [
    "#### Part A"
   ]
  },
  {
   "cell_type": "code",
   "execution_count": 159,
   "id": "85ebc4b6",
   "metadata": {},
   "outputs": [
    {
     "data": {
      "text/plain": [
       "Text(0.5, 1.0, 'Histogram of Wage')"
      ]
     },
     "execution_count": 159,
     "metadata": {},
     "output_type": "execute_result"
    },
    {
     "data": {
      "image/png": "[encoded data removed]",
      "text/plain": [
       "<Figure size 640x480 with 1 Axes>"
      ]
     },
     "metadata": {},
     "output_type": "display_data"
    }
   ],
   "source": [
    "ln_wage = np.log(clean['wage'])\n",
    "\n",
    "plt.hist(ln_wage, bins=30, edgecolor='black')\n",
    "plt.xlabel('Log Wage')\n",
    "plt.ylabel('Frequency')\n",
    "plt.title('Histogram of Wage')"
   ]
  },
  {
   "cell_type": "markdown",
   "id": "93704c10",
   "metadata": {},
   "source": [
    "#### Part B"
   ]
  },
  {
   "cell_type": "code",
   "execution_count": 135,
   "id": "7cf01f0c",
   "metadata": {},
   "outputs": [
    {
     "name": "stdout",
     "output_type": "stream",
     "text": [
      "The coefficient for β1 (educ) is: 0.0774\n",
      "The standard error for β1 (educ) is: 0.0051\n"
     ]
    }
   ],
   "source": [
    "data['exper^2'] = data['exper'] ** 2\n",
    "controls = data[['exper', 'exper^2', 'black', 'smsa', 'south', 'smsa66', 'reg662', 'reg663', 'reg664', 'reg665', 'reg666', 'reg667', 'reg668', 'reg669']]\n",
    "\n",
    "educ = clean['educ']\n",
    "X_a = educ.to_frame(name='educ').join(controls)\n",
    "X_a = sm.add_constant(X_a)\n",
    "model = sm.OLS(ln_wage, X_a).fit()\n",
    "\n",
    "print(f\"The coefficient for β1 (educ) is: {model.params['educ']:.4f}\")\n",
    "print(f\"The standard error for β1 (educ) is: {model.bse['educ']:.4f}\")"
   ]
  },
  {
   "cell_type": "markdown",
   "id": "d2fcd767",
   "metadata": {},
   "source": [
    "#### Part C"
   ]
  },
  {
   "cell_type": "code",
   "execution_count": 136,
   "id": "2be7ae69",
   "metadata": {
    "vscode": {
     "languageId": "ruby"
    }
   },
   "outputs": [
    {
     "name": "stdout",
     "output_type": "stream",
     "text": [
      "First stage coefficient for γ1 (nearc4) on educ is: 0.5018\n",
      "Full model coefficient for γ1 (nearc4) on educ is: 0.3197\n"
     ]
    }
   ],
   "source": [
    "nearc4 = clean[['nearc4']]\n",
    "educ = clean['educ']\n",
    "reg.fit(nearc4, educ)\n",
    "\n",
    "print(f\"First stage coefficient for γ1 (nearc4) on educ is: {reg.coef_[0]:.4f}\")\n",
    "\n",
    "controls_c = clean[['nearc4']].join(controls)\n",
    "reg.fit(controls_c, educ)\n",
    "\n",
    "print(f\"Full model coefficient for γ1 (nearc4) on educ is: {reg.coef_[0]:.4f}\")\n"
   ]
  },
  {
   "cell_type": "markdown",
   "id": "1334de98",
   "metadata": {},
   "source": [
    "The Instrument Relevance condition indicates that the chosen IV (nearc4) must be correlated with the explanatory variable (educ) but not correlated with the omitted variables (rest of the controls).\n",
    "Given the results of the analysis where the estimate of the IV is very different between the First Stage Regression and the Full Model, this indicates that the IV is correlated with the omitted variables and is thus a poor IV."
   ]
  },
  {
   "cell_type": "markdown",
   "id": "b6bb4b12",
   "metadata": {},
   "source": [
    "#### Part D"
   ]
  },
  {
   "cell_type": "code",
   "execution_count": 137,
   "id": "65aef5e8",
   "metadata": {
    "vscode": {
     "languageId": "ruby"
    }
   },
   "outputs": [
    {
     "name": "stdout",
     "output_type": "stream",
     "text": [
      "IV estimate for β1 (educ) with nearc4 as the IV is: 0.0331\n",
      "Standard error for β1 (educ) with nearc4 as the IV is: 0.0768\n"
     ]
    }
   ],
   "source": [
    "nearc4 = clean[['nearc4']]\n",
    "educ = clean['educ']\n",
    "\n",
    "X_first_D = nearc4.join(controls)\n",
    "\n",
    "# First stage regression using statsmodels to get fitted values\n",
    "X_first_constant_D = sm.add_constant(X_first_D)\n",
    "model_first_D = sm.OLS(educ, X_first_constant_D).fit()\n",
    "\n",
    "# Fitted values from the first stage regression\n",
    "educ_hat = model_first_D.fittedvalues\n",
    "\n",
    "# Second stage regression\n",
    "X_second_D = educ_hat.to_frame(name='educ_hat').join(controls)\n",
    "X_second_constant_D = sm.add_constant(X_second_D)  \n",
    "model_second_D = sm.OLS(ln_wage, X_second_constant_D).fit()\n",
    "\n",
    "beta_1 = model_second_D.params['educ_hat']\n",
    "beta_1_se = model_second_D.bse['educ_hat']\n",
    "\n",
    "print(f\"IV estimate for β1 (educ) with nearc4 as the IV is: {beta_1:.4f}\")\n",
    "print(f\"Standard error for β1 (educ) with nearc4 as the IV is: {beta_1_se:.4f}\")"
   ]
  },
  {
   "cell_type": "markdown",
   "id": "f4da728f",
   "metadata": {},
   "source": [
    "#### Part E"
   ]
  },
  {
   "cell_type": "code",
   "execution_count": 138,
   "id": "37e44814",
   "metadata": {},
   "outputs": [
    {
     "name": "stdout",
     "output_type": "stream",
     "text": [
      "The coefficient for π1 (nearc4) on IQ is: 2.3639\n",
      "The coefficient for π1 (nearc4) on IQ with controls is: 0.2209\n"
     ]
    }
   ],
   "source": [
    "nearc4 = clean[['nearc4']]\n",
    "IQ = clean['IQ']\n",
    "\n",
    "reg.fit(nearc4, IQ)\n",
    "print(f\"The coefficient for π1 (nearc4) on IQ is: {reg.coef_[0]:.4f}\")\n",
    "\n",
    "controls_e = nearc4.join(controls)\n",
    "reg.fit(controls_e, IQ)\n",
    "print(f\"The coefficient for π1 (nearc4) on IQ with controls is: {reg.coef_[0]:.4f}\")"
   ]
  },
  {
   "cell_type": "markdown",
   "id": "05dca706",
   "metadata": {},
   "source": [
    "Similar to the previous IV analysis in part C, this IV (nearc4) on IQ appears to fail relevance condition considering that its estimation is not independent from the error term (controls). This indicates that there is an omitted variable bias problem on the first stage regression, thus indicating that the exogeneity assumption does not hold."
   ]
  },
  {
   "cell_type": "markdown",
   "id": "41e2b840",
   "metadata": {},
   "source": [
    "#### Part F"
   ]
  },
  {
   "cell_type": "code",
   "execution_count": 143,
   "id": "4d419b54",
   "metadata": {},
   "outputs": [
    {
     "name": "stdout",
     "output_type": "stream",
     "text": [
      "IV estimate for β1 (IQ) with nearc4 as the IV is: 0.0479\n",
      "Standard error for β1 (IQ) with nearc4 as the IV is: 0.1111\n"
     ]
    }
   ],
   "source": [
    "X_first_F = nearc4.join(controls)\n",
    "\n",
    "# First stage regression using statsmodels to get fitted values\n",
    "X_first_constant_F = sm.add_constant(X_first_F)\n",
    "model_first_F = sm.OLS(IQ, X_first_constant_F).fit()\n",
    "\n",
    "# Fitted values from the first stage regression\n",
    "IQ_hat = model_first_F.fittedvalues\n",
    "\n",
    "# Second stage regression\n",
    "X_second_F = IQ_hat.to_frame(name='IQ_hat').join(controls)\n",
    "X_second_constant_F = sm.add_constant(X_second_F)  \n",
    "model_second_D = sm.OLS(ln_wage, X_second_constant_F).fit()\n",
    "\n",
    "beta_1 = model_second_D.params['IQ_hat']\n",
    "beta_1_se = model_second_D.bse['IQ_hat']\n",
    "\n",
    "print(f\"IV estimate for β1 (IQ) with nearc4 as the IV is: {beta_1:.4f}\")\n",
    "print(f\"Standard error for β1 (IQ) with nearc4 as the IV is: {beta_1_se:.4f}\")"
   ]
  },
  {
   "cell_type": "markdown",
   "id": "2372a5cc",
   "metadata": {},
   "source": [
    "β1 for (f) is smaller than that for (b) but larger than that for (d).\n",
    "The standard error for (f) is larger than that for both (b) and (d)."
   ]
  },
  {
   "cell_type": "markdown",
   "id": "f181d5db",
   "metadata": {},
   "source": [
    "#### Part G"
   ]
  },
  {
   "cell_type": "markdown",
   "id": "819ec35a",
   "metadata": {},
   "source": [
    "The model presented in (f) is Jusst-Identified because the number of IVs (nearc4) matches the number of endogenous variables (IQ).\n",
    "An additional IV could include \"proximity to a library.\" This IV matches the relevancy condition as it is variable that can be correlated to directly effect IQ developement while being exogenous to the error terms for wages."
   ]
  },
  {
   "cell_type": "markdown",
   "id": "e6ef558b",
   "metadata": {},
   "source": [
    "#### Part H"
   ]
  },
  {
   "cell_type": "code",
   "execution_count": 187,
   "id": "254e6195",
   "metadata": {},
   "outputs": [
    {
     "name": "stdout",
     "output_type": "stream",
     "text": [
      "Using 1600 complete observations out of 1600\n",
      "\n",
      "Wu-Hausman Test Results:\n",
      "Coefficient on residuals: -0.041882\n",
      "t-statistic: -0.3841\n",
      "p-value: 0.700972\n",
      "\n",
      "Conclusion: Fail to reject H₀ - No strong evidence of endogeneity\n"
     ]
    }
   ],
   "source": [
    "# Get IQ and ln_wage from clean data\n",
    "IQ = clean['IQ']\n",
    "ln_wage = np.log(clean['wage'])\n",
    "\n",
    "# Step 1: First Stage Regression\n",
    "# IQ = f(nearc4, controls)\n",
    "X_first = nearc4.join(controls)\n",
    "\n",
    "# Ensure all data shares the same index as clean\n",
    "X_first = X_first.reindex(clean.index)\n",
    "IQ = IQ.reindex(clean.index)\n",
    "ln_wage = ln_wage.reindex(clean.index)\n",
    "controls = controls.reindex(clean.index)\n",
    "\n",
    "# Remove any rows with missing values\n",
    "valid_rows = ~(X_first.isna().any(axis=1) | IQ.isna() | ln_wage.isna())\n",
    "X_first_clean = X_first[valid_rows]\n",
    "IQ_clean = IQ[valid_rows]\n",
    "ln_wage_clean = ln_wage[valid_rows]\n",
    "controls_clean = controls[valid_rows]\n",
    "\n",
    "print(f\"Using {valid_rows.sum()} complete observations out of {len(valid_rows)}\")\n",
    "\n",
    "# Run first stage\n",
    "X_first_constant = sm.add_constant(X_first_clean)\n",
    "first_stage = sm.OLS(IQ_clean, X_first_constant).fit()\n",
    "\n",
    "# Get fitted values and residuals\n",
    "IQ_hat = first_stage.fittedvalues\n",
    "v_hat = IQ_clean - IQ_hat  # First-stage residuals\n",
    "\n",
    "# Step 2: Augmented Regression  \n",
    "# Create augmented X matrix\n",
    "augmented_X = pd.DataFrame({\n",
    "    'IQ': IQ_clean.values,  # Use .values to avoid index issues\n",
    "    **{col: controls_clean[col].values for col in controls_clean.columns},\n",
    "    'first_stage_resid': v_hat.values\n",
    "}, index=IQ_clean.index)\n",
    "\n",
    "# Run augmented regression\n",
    "augmented_model = sm.OLS(ln_wage_clean, sm.add_constant(augmented_X)).fit()\n",
    "\n",
    "# Step 3: Test Results\n",
    "delta = augmented_model.params['first_stage_resid']\n",
    "p_value = augmented_model.pvalues['first_stage_resid']\n",
    "t_stat = augmented_model.tvalues['first_stage_resid']\n",
    "\n",
    "print(f\"\\nWu-Hausman Test Results:\")\n",
    "print(f\"Coefficient on residuals: {delta:.6f}\")\n",
    "print(f\"t-statistic: {t_stat:.4f}\")\n",
    "print(f\"p-value: {p_value:.6f}\")\n",
    "\n",
    "if p_value < 0.05:\n",
    "    print(\"\\nConclusion: Reject H₀ at 5% level - IQ is endogenous, use IV\")\n",
    "else:\n",
    "    print(\"\\nConclusion: Fail to reject H₀ - No strong evidence of endogeneity\")"
   ]
  },
  {
   "cell_type": "markdown",
   "id": "177498a6",
   "metadata": {},
   "source": [
    "#### Part I"
   ]
  },
  {
   "cell_type": "code",
   "execution_count": 148,
   "id": "31acb030",
   "metadata": {},
   "outputs": [
    {
     "name": "stdout",
     "output_type": "stream",
     "text": [
      "IV estimate for β1 (educ) with nearc4 and nearc2 as the IVs is: 0.0773\n",
      "Standard error for β1 (educ) with nearc4 and nearc2 as the IVs is: 0.0731\n"
     ]
    }
   ],
   "source": [
    "nearc4 = clean[['nearc4']]\n",
    "nearc2 = clean[['nearc2']]\n",
    "educ = clean['educ']\n",
    "\n",
    "X_first_f = nearc4.join(nearc2).join(controls)\n",
    "X_first_constant_f = sm.add_constant(X_first_f)\n",
    "model_first_f = sm.OLS(educ, X_first_constant_f).fit()\n",
    "\n",
    "educ_hat_f = model_first_f.fittedvalues\n",
    "\n",
    "X_second_f = educ_hat_f.to_frame(name='educ_hat').join(controls)\n",
    "X_second_constant_f = sm.add_constant(X_second_f)\n",
    "model_second_f = sm.OLS(ln_wage, X_second_constant_f).fit()\n",
    "\n",
    "beta_1_f = model_second_f.params['educ_hat']\n",
    "beta_1_se_f = model_second_f.bse['educ_hat']\n",
    "\n",
    "print(f\"IV estimate for β1 (educ) with nearc4 and nearc2 as the IVs is: {beta_1_f:.4f}\")\n",
    "print(f\"Standard error for β1 (educ) with nearc4 and nearc2 as the IVs is: {beta_1_se_f:.4f}\")"
   ]
  },
  {
   "cell_type": "markdown",
   "id": "471d2f35",
   "metadata": {},
   "source": [
    "#### Part J"
   ]
  },
  {
   "cell_type": "code",
   "execution_count": 150,
   "id": "0f45b7c4",
   "metadata": {},
   "outputs": [
    {
     "name": "stdout",
     "output_type": "stream",
     "text": [
      "Sargan J-statistic: 3.6410\n",
      "p-value: 0.056373\n",
      "⚠ Weak evidence against instruments (0.05 ≤ p < 0.10)\n",
      "  Some concern about instrument validity\n"
     ]
    }
   ],
   "source": [
    "from scipy import stats\n",
    "\n",
    "# Get second stage residuals from your model\n",
    "second_stage_residuals = ln_wage - model_second_f.fittedvalues\n",
    "\n",
    "# Regress residuals on all instruments and controls (using your structure)\n",
    "X_sargan = nearc4.join(nearc2).join(controls)\n",
    "X_sargan_constant = sm.add_constant(X_sargan)\n",
    "sargan_model = sm.OLS(second_stage_residuals, X_sargan_constant).fit()\n",
    "\n",
    "# Calculate J-statistic\n",
    "n = len(clean)\n",
    "sargan_r_squared = sargan_model.rsquared\n",
    "j_statistic = n * sargan_r_squared\n",
    "\n",
    "# Degrees of freedom = instruments - endogenous variables = 2 - 1 = 1\n",
    "df_sargan = 1\n",
    "sargan_p_value = 1 - stats.chi2.cdf(j_statistic, df_sargan)\n",
    "\n",
    "print(f\"Sargan J-statistic: {j_statistic:.4f}\")\n",
    "print(f\"p-value: {sargan_p_value:.6f}\")\n",
    "\n",
    "if sargan_p_value < 0.05:\n",
    "    print(\"✗ REJECT instrument validity (p < 0.05)\")\n",
    "    print(\"  At least one instrument appears invalid\")\n",
    "elif sargan_p_value < 0.10:\n",
    "    print(\"⚠ Weak evidence against instruments (0.05 ≤ p < 0.10)\")\n",
    "    print(\"  Some concern about instrument validity\")\n",
    "else:\n",
    "    print(\"✓ ACCEPT instrument validity (p ≥ 0.10)\")\n",
    "    print(\"  No evidence against instruments\")"
   ]
  },
  {
   "cell_type": "markdown",
   "id": "bbafc436",
   "metadata": {},
   "source": [
    "#### Part K"
   ]
  },
  {
   "cell_type": "code",
   "execution_count": 151,
   "id": "07407843",
   "metadata": {},
   "outputs": [
    {
     "name": "stdout",
     "output_type": "stream",
     "text": [
      "R-squared: 0.365510\n",
      "Overall F-statistic: 56.9948\n",
      "Overall F-test p-value: 0.000000\n",
      "\n",
      "Joint significance test (Wald/F-test):\n",
      "\n",
      "Alternative assessment:\n",
      "Individual t-statistics:\n",
      "nearc4 t-stat: 2.7722\n",
      "nearc2 t-stat: 0.9121\n",
      "⚠ Only one instrument individually significant\n"
     ]
    },
    {
     "name": "stderr",
     "output_type": "stream",
     "text": [
      "c:\\Users\\evanm\\anaconda3\\Lib\\site-packages\\statsmodels\\base\\model.py:1912: FutureWarning: The behavior of wald_test will change after 0.14 to returning scalar test statistic values. To get the future behavior now, set scalar to True. To silence this message while retaining the legacy behavior, set scalar to False.\n",
      "  warnings.warn(\n"
     ]
    }
   ],
   "source": [
    "# Using your first stage model (model_first_f)\n",
    "r_squared = model_first_f.rsquared\n",
    "f_statistic_overall = model_first_f.fvalue\n",
    "f_p_value_overall = model_first_f.f_pvalue\n",
    "\n",
    "print(f\"R-squared: {r_squared:.6f}\")\n",
    "print(f\"Overall F-statistic: {f_statistic_overall:.4f}\")\n",
    "print(f\"Overall F-test p-value: {f_p_value_overall:.6f}\")\n",
    "\n",
    "# Joint test for instruments significance: H₀: nearc4 = nearc2 = 0\n",
    "try:\n",
    "    # Wald test for joint significance of instruments\n",
    "    restrictions = ['nearc4 = 0', 'nearc2 = 0'] \n",
    "    wald_test = model_first_f.wald_test(restrictions)\n",
    "    wald_f_stat = wald_test.statistic\n",
    "    wald_p_value = wald_test.pvalue\n",
    "    \n",
    "    print(f\"\\nJoint significance test (Wald/F-test):\")\n",
    "    print(f\"F-statistic for instruments: {wald_f_stat:.4f}\")\n",
    "    print(f\"p-value: {wald_p_value:.6f}\")\n",
    "    \n",
    "    if wald_p_value < 0.05:\n",
    "        print(\"✓ Instruments are jointly significant (p < 0.05)\")\n",
    "    else:\n",
    "        print(\"✗ Instruments are NOT jointly significant (p ≥ 0.05)\")\n",
    "        \n",
    "    # Weak instruments assessment\n",
    "    if wald_f_stat > 10:\n",
    "        print(f\"✓ Strong instruments (F = {wald_f_stat:.4f} > 10)\")\n",
    "    elif wald_f_stat > 5:\n",
    "        print(f\"⚠ Moderately weak instruments (F = {wald_f_stat:.4f})\")\n",
    "    else:\n",
    "        print(f\"✗ Weak instruments (F = {wald_f_stat:.4f} < 5)\")\n",
    "        \n",
    "except:\n",
    "    # Alternative method if wald_test fails\n",
    "    print(f\"\\nAlternative assessment:\")\n",
    "    print(f\"Individual t-statistics:\")\n",
    "    print(f\"nearc4 t-stat: {model_first_f.tvalues['nearc4']:.4f}\")\n",
    "    print(f\"nearc2 t-stat: {model_first_f.tvalues['nearc2']:.4f}\")\n",
    "    \n",
    "    # Rule of thumb: if both |t| > 2, instruments are individually significant\n",
    "    t_nearc4 = abs(model_first_f.tvalues['nearc4'])\n",
    "    t_nearc2 = abs(model_first_f.tvalues['nearc2'])\n",
    "    \n",
    "    if t_nearc4 > 2 and t_nearc2 > 2:\n",
    "        print(\"✓ Both instruments individually significant (|t| > 2)\")\n",
    "    elif t_nearc4 > 2 or t_nearc2 > 2:\n",
    "        print(\"⚠ Only one instrument individually significant\")\n",
    "    else:\n",
    "        print(\"✗ Neither instrument individually significant\")"
   ]
  },
  {
   "cell_type": "code",
   "execution_count": null,
   "id": "2eae81c8",
   "metadata": {},
   "outputs": [],
   "source": []
  }
 ],
 "metadata": {
  "kernelspec": {
   "display_name": "base",
   "language": "python",
   "name": "python3"
  },
  "language_info": {
   "codemirror_mode": {
    "name": "ipython",
    "version": 3
   },
   "file_extension": ".py",
   "mimetype": "text/x-python",
   "name": "python",
   "nbconvert_exporter": "python",
   "pygments_lexer": "ipython3",
   "version": "3.12.7"
  }
 },
 "nbformat": 4,
 "nbformat_minor": 5
}
